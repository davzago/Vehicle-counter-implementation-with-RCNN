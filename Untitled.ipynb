{
 "cells": [
  {
   "cell_type": "code",
   "execution_count": 1,
   "metadata": {},
   "outputs": [
    {
     "name": "stdout",
     "output_type": "stream",
     "text": [
      "1 2 3\n"
     ]
    }
   ],
   "source": [
    "print(1,2,3)"
   ]
  },
  {
   "cell_type": "code",
   "execution_count": null,
   "metadata": {},
   "outputs": [
    {
     "output_type": "error",
     "ename": "Error",
     "evalue": "Jupyter cannot be started. Error attempting to locate jupyter: Data Science libraries jupyter and notebook are not installed in interpreter Python 3.6.9 64-bit ('SB': venv).",
     "traceback": [
      "Error: Jupyter cannot be started. Error attempting to locate jupyter: Data Science libraries jupyter and notebook are not installed in interpreter Python 3.6.9 64-bit ('SB': venv).",
      "at b.startServer (/home/davide/.vscode/extensions/ms-python.python-2020.9.112786/out/client/extension.js:56:315095)",
      "at runMicrotasks (<anonymous>)",
      "at processTicksAndRejections (internal/process/task_queues.js:94:5)",
      "at async b.createServer (/home/davide/.vscode/extensions/ms-python.python-2020.9.112786/out/client/extension.js:56:314537)",
      "at async connect (/home/davide/.vscode/extensions/ms-python.python-2020.9.112786/out/client/extension.js:56:442266)",
      "at async f.ensureConnectionAndNotebookImpl (/home/davide/.vscode/extensions/ms-python.python-2020.9.112786/out/client/extension.js:32:92482)",
      "at async f.ensureConnectionAndNotebook (/home/davide/.vscode/extensions/ms-python.python-2020.9.112786/out/client/extension.js:32:90844)",
      "at async f.clearResult (/home/davide/.vscode/extensions/ms-python.python-2020.9.112786/out/client/extension.js:32:86516)",
      "at async f.reexecuteCell (/home/davide/.vscode/extensions/ms-python.python-2020.9.112786/out/client/extension.js:9:134265)",
      "at async f.reexecuteCells (/home/davide/.vscode/extensions/ms-python.python-2020.9.112786/out/client/extension.js:9:130611)"
     ]
    }
   ],
   "source": [
    "print(\"banana\")"
   ]
  },
  {
   "cell_type": "code",
   "execution_count": null,
   "metadata": {},
   "outputs": [],
   "source": []
  }
 ],
 "metadata": {
  "kernelspec": {
   "display_name": "Python 3",
   "language": "python",
   "name": "python3"
  },
  "language_info": {
   "codemirror_mode": {
    "name": "ipython",
    "version": 3
   },
   "file_extension": ".py",
   "mimetype": "text/x-python",
   "name": "python",
   "nbconvert_exporter": "python",
   "pygments_lexer": "ipython3",
   "version": "3.6.9"
  }
 },
 "nbformat": 4,
 "nbformat_minor": 4
}